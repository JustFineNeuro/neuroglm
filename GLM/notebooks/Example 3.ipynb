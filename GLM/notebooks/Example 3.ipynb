{
 "cells": [
  {
   "metadata": {},
   "cell_type": "markdown",
   "source": [
    "# This example will show that we can do the exact same thing as binning and penalization in this framework, by using piecewice constant B-spline basis functions (bs(x,degree=0, knots=knots) and using pre-determined knots.\n",
    "\n",
    "#### The advantage of this formulation is we optimize the smoothing parameter in a fully Bayesian way. But model-comparison and lambda selection is still possible if one wishes."
   ],
   "id": "5b578a4bfcbd7861"
  },
  {
   "metadata": {},
   "cell_type": "code",
   "outputs": [],
   "execution_count": null,
   "source": "",
   "id": "initial_id"
  }
 ],
 "metadata": {
  "kernelspec": {
   "display_name": "Python 3",
   "language": "python",
   "name": "python3"
  },
  "language_info": {
   "codemirror_mode": {
    "name": "ipython",
    "version": 2
   },
   "file_extension": ".py",
   "mimetype": "text/x-python",
   "name": "python",
   "nbconvert_exporter": "python",
   "pygments_lexer": "ipython2",
   "version": "2.7.6"
  }
 },
 "nbformat": 4,
 "nbformat_minor": 5
}
