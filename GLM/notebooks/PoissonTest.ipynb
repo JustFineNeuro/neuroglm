{
 "cells": [
  {
   "metadata": {},
   "cell_type": "markdown",
   "source": "# Test book",
   "id": "a23d9084d27256bf"
  },
  {
   "metadata": {
    "ExecuteTime": {
     "end_time": "2024-10-27T16:39:45.455520Z",
     "start_time": "2024-10-27T16:39:43.941989Z"
    }
   },
   "cell_type": "code",
   "source": [
    "from scipy.io import loadmat\n",
    "import mat73\n",
    "import os\n",
    "import numpy as np\n",
    "import pandas as pd\n",
    "from GLM import glm\n"
   ],
   "id": "ab12a2d2805adce4",
   "outputs": [],
   "execution_count": 1
  },
  {
   "metadata": {},
   "cell_type": "code",
   "outputs": [],
   "execution_count": null,
   "source": [
    "data=loadmat('/Users/user/PycharmProjects/PacManMain/GLM/exampleData/PMD.mat')\n",
    "data=pd.DataFrame(data['data'][0])\n",
    "data = data.applymap(lambda x: [item[0] for item in x])\n",
    "data = data.apply(pd.Series.explode).reset_index(drop=True)\n",
    "data['rewardVal']=data.rewardVal.astype('category')\n",
    "data=data[data['rewardVal']!=0]\n",
    "X=data[['self_spd','prey_spd','rewardVal']]\n",
    "\n",
    "X['prey_spd'] = pd.to_numeric(X['prey_spd'], errors='coerce')\n",
    "X['self_spd'] = pd.to_numeric(X['self_spd'], errors='coerce')\n",
    "\n",
    "y = data['n3']\n",
    "\n",
    "#Make formulas\n",
    "formulas=[]\n",
    "formulas.append('y ~ (cr(self_spd,df=5)+ cr(prey_spd, df=5))*C(rewardVal)-1')\n",
    "formulas.append('y ~ cr(self_spd,df=5) + cr(prey_spd, df=5)+C(rewardVal) -1')\n",
    "formulas.append('y ~ cr(self_spd,df=5)*C(rewardVal)-1')\n",
    "formulas.append('y ~ cr(prey_spd,df=5)*C(rewardVal)-1')\n",
    "formulas.append('y ~ cr(self_spd,df=5)+C(rewardVal)-1')\n",
    "formulas.append('y ~ cr(prey_spd,df=5)+C(rewardVal)-1')\n",
    "formulas.append('y ~ cr(self_spd,df=5)')\n",
    "formulas.append('y ~ cr(prey_spd,df=5)')\n",
    "formulas.append('y ~C(rewardVal)-1')\n",
    "formulas.append('y ~1')\n",
    "\n",
    "mod=glm.PoissonGLM()\n",
    "mod.add_data(X,y).make_preprocessor(formulas=formulas,metric='cv',l2reg=0.01).fit(params={'cv': 5, 'shuffleTime': False})\n",
    "\n",
    "\n",
    "# x1 = np.linspace(mod.X['prey_spd'].min(), mod.X['prey_spd'].max(), 100)  # 100 points in the range of x1\n",
    "# pred_data = pd.DataFrame({'prey_spd':x1})\n",
    "levels = [1, 2,3,4,5] \n",
    "pred_data = pd.DataFrame({'rewardVal':np.tile(levels,1)})\n",
    "mod.predict(pred_data)\n",
    "\n",
    "        # x2_median = data['x2'].median()  # Median value for x2\n",
    "        # levels = ['A', 'B', 'C']  # Levels for categorical variable\n",
    "\n",
    "\n",
    "# \n",
    "# levels = ['A', 'B']  # Levels for categorical variable\n",
    "# \n",
    "# # Create a DataFrame to hold the predictions for each level of the categorical variable\n",
    "# pred_data = pd.DataFrame({\n",
    "#     'x1':x1_median,\n",
    "#     'x2': np.repeat(x2_range,len(levels)),\n",
    "#     'cat_var': np.tile(levels, len(x2_range))\n",
    "# })"
   ],
   "id": "f2fdff44bd1a400e"
  },
  {
   "metadata": {},
   "cell_type": "markdown",
   "source": "Generate data",
   "id": "b17327e634e19b9b"
  },
  {
   "metadata": {},
   "cell_type": "markdown",
   "source": "Make predicted set",
   "id": "7a8471d821704813"
  }
 ],
 "metadata": {
  "kernelspec": {
   "display_name": "Python 3",
   "language": "python",
   "name": "python3"
  },
  "language_info": {
   "codemirror_mode": {
    "name": "ipython",
    "version": 2
   },
   "file_extension": ".py",
   "mimetype": "text/x-python",
   "name": "python",
   "nbconvert_exporter": "python",
   "pygments_lexer": "ipython2",
   "version": "2.7.6"
  }
 },
 "nbformat": 4,
 "nbformat_minor": 5
}
