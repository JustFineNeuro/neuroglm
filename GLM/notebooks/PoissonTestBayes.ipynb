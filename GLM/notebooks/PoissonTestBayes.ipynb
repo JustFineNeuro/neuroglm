{
 "cells": [
  {
   "metadata": {},
   "cell_type": "code",
   "outputs": [],
   "execution_count": null,
   "source": [
    "import numpy as np\n",
    "import pandas as pd\n",
    "import flax.linen as flax_nn\n",
    "from jax import nn\n",
    "import jax\n",
    "import jax.numpy as jnp\n",
    "import numpyro\n",
    "import numpyro.distributions as dist\n",
    "from numpyro.infer import MCMC, NUTS\n",
    "from numpyro.diagnostics import hpdi\n",
    "\n",
    "import patsy\n",
    "import seaborn as sns\n",
    "import matplotlib.pyplot as plt\n",
    "import arviz as az\n",
    "from GLM import models\n",
    "\n",
    "\n",
    "np.random.seed(42)\n",
    "n_samples = 10000\n",
    "x1 = np.random.uniform(0, 3, n_samples)\n",
    "x2 = np.linspace(0, 6.28, n_samples)\n",
    "y = np.random.poisson((1 + 0.1 * x1 +  np.sin(x2)))\n",
    "X1 = x1.reshape(-1, 1)\n",
    "X2 = x2.reshape(-1, 1)\n",
    "X_both = np.column_stack([x1, x2,x1*x2])\n",
    "df=pd.DataFrame(X_both)\n",
    "df.rename(columns={0:'x1',1:'x2',2:'x1x2'}, inplace=True)\n",
    "\n",
    "#Define formulw\n",
    "basis_x = patsy.dmatrix(\"bs(x1, degree=0,df=5)+bs(x2,degree=0, df=5)\", return_type=\"dataframe\")\n",
    "\n"
   ],
   "id": "90fddfc1b6ba3cc9"
  },
  {
   "metadata": {},
   "cell_type": "markdown",
   "source": "Fit",
   "id": "56028149f01bdce6"
  },
  {
   "metadata": {},
   "cell_type": "code",
   "outputs": [],
   "execution_count": null,
   "source": [
    "nuts_kernel = NUTS(models.gaussian_prior)\n",
    "mcmc = MCMC(nuts_kernel, num_warmup=500, num_samples=3000)\n",
    "mcmc.run(jax.random.PRNGKey(0), basis_x=jnp.array(basis_x.values), y=y)\n",
    "samples = mcmc.get_samples()"
   ],
   "id": "3374678141b40a1c"
  },
  {
   "metadata": {},
   "cell_type": "markdown",
   "source": "Plot",
   "id": "cf8a838307562ef3"
  },
  {
   "metadata": {},
   "cell_type": "code",
   "outputs": [],
   "execution_count": null,
   "source": [
    "for i, coef in enumerate(samples[\"coefs\"].T):\n",
    "    sns.kdeplot(coef, label=f'Coefficient {i+1}')\n",
    "plt.legend()\n",
    "plt.xlabel('Coefficient Value')\n",
    "plt.ylabel('Density')\n",
    "plt.title('Posterior Distributions of Coefficients')\n",
    "plt.show()"
   ],
   "id": "3165d35436ce82ad"
  },
  {
   "metadata": {},
   "cell_type": "markdown",
   "source": "Compute credible intervals",
   "id": "2b3b49b749a67194"
  },
  {
   "metadata": {},
   "cell_type": "code",
   "outputs": [],
   "execution_count": null,
   "source": [
    "# Compute 95% credible intervals for each coefficient\n",
    "credible_intervals = np.percentile(samples[\"coefs\"], [2.5, 97.5], axis=0)\n",
    "\n",
    "# Compute the mean estimate of each coefficient\n",
    "mean_coefs = np.mean(samples[\"coefs\"], axis=0)\n",
    "\n",
    "# Zero out coefficients where the 95% CI overlaps with zero\n",
    "adjusted_coefs = np.where((credible_intervals[0] <= 0) & (credible_intervals[1] >= 0), 0, mean_coefs)"
   ],
   "id": "7d4026848dac938e"
  },
  {
   "metadata": {},
   "cell_type": "markdown",
   "source": "Make predicted 'tuning curves'",
   "id": "73836a204dbaf9f8"
  },
  {
   "metadata": {
    "ExecuteTime": {
     "end_time": "2024-10-30T22:27:30.627337Z",
     "start_time": "2024-10-30T22:27:30.432429Z"
    }
   },
   "cell_type": "code",
   "source": [
    "# Define ranges for x1 and x2\n",
    "x1_range = jnp.linspace(jnp.median(x1), jnp.median(x1), 100)  # Example range for x1\n",
    "x2_range = jnp.linspace(jnp.min(x2), jnp.max(x2), 100)  # Example range for x2\n",
    "data = {\"x1\": x1_range, \"x2\": x2_range}\n",
    "# x1_grid, x2_grid = jnp.meshgrid(x1_range, x2_range)\n",
    "# \n",
    "# # Flatten grids and prepare data for patsy transformation\n",
    "# x1_flat = x1_grid.flatten()\n",
    "# x2_flat = x2_grid.flatten()\n",
    "# data = {\"x1\": x1_flat, \"x2\": x2_flat}\n",
    "\n",
    "# Transform the data using the CR basis function (update formula as needed)\n",
    "basis_x = patsy.dmatrix(\"bs(x1,degree=3, df=5) + bs(x2,degree=3, df=5)\", data, return_type=\"dataframe\")\n",
    "basis_x = jnp.array(basis_x.values)  # Convert to JAX array\n",
    "\n",
    "# Compute predictions for each posterior sample\n",
    "linear_preds_samples = jnp.dot(samples[\"coefs\"], basis_x.T)\n",
    "rate_preds_samples = jnp.exp(linear_preds_samples)  # Poisson rate (lambda)\n",
    "\n",
    "# Compute mean prediction and HPDI for each x1 value\n",
    "mean_rate_pred = rate_preds_samples.mean(axis=0)\n",
    "hpdi_rate_pred = hpdi(rate_preds_samples, prob=0.95) \n",
    "\n",
    "\n",
    "hpdi_pred_samples = hpdi(rate_preds_samples, prob=0.95)  # 95% HPDI for predictive samples\n",
    "hpdi_mean = hpdi(mean_rate_pred, prob=0.95)  # Uncertainty in mean\n",
    "\n",
    "\n",
    "\n",
    "\n",
    "# \n",
    "# \n",
    "# ## FOR mean prediciton\n",
    "# # Compute the predictions using adjusted coefficients\n",
    "# linear_pred = jnp.dot(basis_x, adjusted_coefs)\n",
    "# rate_pred = jnp.exp(linear_pred)  # Poisson rate (lambda) for the GLM\n",
    "# \n",
    "# # Reshape predictions to match grid shape\n",
    "# rate_pred = rate_pred.reshape(x1_grid.shape)"
   ],
   "id": "d1e9fccf2aa169a1",
   "outputs": [
    {
     "ename": "NameError",
     "evalue": "name 'jnp' is not defined",
     "output_type": "error",
     "traceback": [
      "\u001B[0;31m---------------------------------------------------------------------------\u001B[0m",
      "\u001B[0;31mNameError\u001B[0m                                 Traceback (most recent call last)",
      "Cell \u001B[0;32mIn[1], line 2\u001B[0m\n\u001B[1;32m      1\u001B[0m \u001B[38;5;66;03m# Define ranges for x1 and x2\u001B[39;00m\n\u001B[0;32m----> 2\u001B[0m x1_range \u001B[38;5;241m=\u001B[39m \u001B[43mjnp\u001B[49m\u001B[38;5;241m.\u001B[39mlinspace(jnp\u001B[38;5;241m.\u001B[39mmedian(x1), jnp\u001B[38;5;241m.\u001B[39mmedian(x1), \u001B[38;5;241m100\u001B[39m)  \u001B[38;5;66;03m# Example range for x1\u001B[39;00m\n\u001B[1;32m      3\u001B[0m x2_range \u001B[38;5;241m=\u001B[39m jnp\u001B[38;5;241m.\u001B[39mlinspace(jnp\u001B[38;5;241m.\u001B[39mmin(x2), jnp\u001B[38;5;241m.\u001B[39mmax(x2), \u001B[38;5;241m100\u001B[39m)  \u001B[38;5;66;03m# Example range for x2\u001B[39;00m\n\u001B[1;32m      4\u001B[0m data \u001B[38;5;241m=\u001B[39m {\u001B[38;5;124m\"\u001B[39m\u001B[38;5;124mx1\u001B[39m\u001B[38;5;124m\"\u001B[39m: x1_range, \u001B[38;5;124m\"\u001B[39m\u001B[38;5;124mx2\u001B[39m\u001B[38;5;124m\"\u001B[39m: x2_range}\n",
      "\u001B[0;31mNameError\u001B[0m: name 'jnp' is not defined"
     ]
    }
   ],
   "execution_count": 1
  },
  {
   "metadata": {},
   "cell_type": "code",
   "outputs": [],
   "execution_count": null,
   "source": "",
   "id": "8638655120d5d45c"
  },
  {
   "metadata": {},
   "cell_type": "markdown",
   "source": "",
   "id": "e10cc7e43b6ea7c4"
  },
  {
   "metadata": {},
   "cell_type": "markdown",
   "source": "Model selection",
   "id": "8b9f40a5879a1c82"
  },
  {
   "metadata": {},
   "cell_type": "code",
   "outputs": [],
   "execution_count": null,
   "source": [
    "from numpyro.infer import Predictive\n",
    "\n",
    "# Get posterior samples\n",
    "samples = mcmc.get_samples()\n",
    "\n",
    "# Set up predictive distribution\n",
    "predictive = Predictive(model_Gaussian, posterior_samples=samples)\n",
    "\n",
    "# Generate posterior predictive samples\n",
    "y_pred = predictive(jax.random.PRNGKey(1), jnp.array(basis_x))\n",
    "##UNCOMMENT usage for mcmc penRegSpline models\n",
    "# y_pred = predictive(jax.random.PRNGKey(1), basis_x_list=basis_x_list, S_list=S_list)\n",
    "\n",
    "# Compare predicted y_pred['y'] to your actual y values\n",
    "\n",
    "\n",
    "# Convert samples to ArviZ inference data\n",
    "inference_data = az.from_numpyro(mcmc)\n",
    "\n",
    "# Compute WAIC\n",
    "waic = az.waic(inference_data)\n",
    "print(\"WAIC:\", waic)\n",
    "loo = az.loo(inference_data)\n",
    " print(\"LOO-CV:\", loo)\n",
    "\n",
    "# Assume waic_scores contains WAIC scores for models\n",
    "weights = np.exp(-0.5 * np.array(waic_scores))\n",
    "weights /= weights.sum()  # Normalize to sum to 1"
   ],
   "id": "45f18062573ea2a1"
  }
 ],
 "metadata": {
  "kernelspec": {
   "display_name": "Python 3",
   "language": "python",
   "name": "python3"
  },
  "language_info": {
   "codemirror_mode": {
    "name": "ipython",
    "version": 2
   },
   "file_extension": ".py",
   "mimetype": "text/x-python",
   "name": "python",
   "nbconvert_exporter": "python",
   "pygments_lexer": "ipython2",
   "version": "2.7.6"
  }
 },
 "nbformat": 4,
 "nbformat_minor": 5
}
